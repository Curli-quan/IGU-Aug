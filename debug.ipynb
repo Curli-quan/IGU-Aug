{
 "cells": [
  {
   "cell_type": "code",
   "execution_count": 19,
   "metadata": {},
   "outputs": [
    {
     "name": "stdout",
     "output_type": "stream",
     "text": [
      "法向量距离: [0.35355339 0.35355339 0.35355339]\n",
      "平均距离: [0.70710678 0.70710678 0.70710678]\n"
     ]
    }
   ],
   "source": [
    "import numpy as np\n",
    "from scipy import stats\n",
    "\n",
    "def calculate_distance_between_lines(points1, points2):\n",
    "    # 将点集分别拆分成x和y坐标\n",
    "    x1, y1 = zip(*points1)\n",
    "    x2, y2 = zip(*points2)\n",
    "\n",
    "    # 执行最小二乘线性回归，使用第一组点\n",
    "    slope1, intercept1, _, _, _ = stats.linregress(x1, y1)\n",
    "\n",
    "    # 计算第一组点回归线的方程：y = mx + b\n",
    "    def regression_line1(x):\n",
    "        return slope1 * x + intercept1\n",
    "\n",
    "    # 执行最小二乘线性回归，使用第二组点\n",
    "    slope2, intercept2, _, _, _ = stats.linregress(x2, y2)\n",
    "\n",
    "    # 计算第二组点回归线的方程：y = mx + b\n",
    "    def regression_line2(x):\n",
    "        return slope2 * x + intercept2\n",
    "\n",
    "    # 计算每个第二组点到第二组点回归线的法向量投影点\n",
    "    projection_points2 = []\n",
    "    for x, y in zip(x2, y2):\n",
    "        x_proj2 = (x + slope2 * y - slope2 * intercept2) / (1 + slope2**2)\n",
    "        y_proj2 = slope2 * x_proj2 + intercept2\n",
    "        projection_points2.append((x_proj2, y_proj2))\n",
    "\n",
    "    # 计算每个第二组点回归线的法向量投影点到第一组点回归线的投影点\n",
    "    projection_points1 = []\n",
    "    for x_proj2, y_proj2 in projection_points2:\n",
    "        x_proj1 = (x_proj2 + slope1 * y_proj2 - slope1 * intercept1) / (1 + slope1**2)\n",
    "        y_proj1 = slope1 * x_proj1 + intercept1\n",
    "        projection_points1.append((x_proj1, y_proj1))\n",
    "\n",
    "    # 计算每个第一组点到投影点的距离\n",
    "    distances = [np.linalg.norm(np.array([x, y]) - np.array([x_proj1, y_proj1])) for (x, y), (x_proj1, y_proj1) in zip(projection_points2, projection_points1)]\n",
    "\n",
    "    return np.array(distances)\n",
    "\n",
    "# 例子\n",
    "points1 = [(1, 1), (2,2)]\n",
    "points2 = [(1, 2),(1.5,2.5), (0.5,1.5)]\n",
    "\n",
    "normal_distances = calculate_distance_between_lines(points1, points2) * 0.5\n",
    "print(\"法向量距离:\", normal_distances)\n",
    "\n",
    "\n",
    "points1 = np.array(points1)\n",
    "points2 = np.array(points2)\n",
    "\n",
    "points1 = points1[:,::-1]\n",
    "points2 = points2[:,::-1]\n",
    "# print(points1)\n",
    "\n",
    "average_dist = calculate_distance_between_lines(points1, points2)\n",
    "print(\"平均距离:\", average_dist)\n"
   ]
  },
  {
   "cell_type": "code",
   "execution_count": 12,
   "metadata": {},
   "outputs": [
    {
     "name": "stdout",
     "output_type": "stream",
     "text": [
      "最左边坐标: 2\n",
      "最右边坐标: 8\n"
     ]
    }
   ],
   "source": [
    "def find_left_right_coordinates(vector):\n",
    "    indices = np.where(vector >= 1)[0]\n",
    "    if len(indices) == 0:\n",
    "        return None, None\n",
    "    left_coordinate = indices[0]\n",
    "    right_coordinate = indices[-1]\n",
    "    return left_coordinate, right_coordinate\n",
    "\n",
    "# 示例一维向量（只包含 0 和 1）\n",
    "vector = np.array([0, 0, 1, 0, 1, 1, 0, 2, 1, 0])\n",
    "\n",
    "# 示例一维向量（只包含 0 和 1）\n",
    "# vector = [0, 0, 1, 0, 1, 1, 0, 1, 0, 0,1]\n",
    "\n",
    "# 获取不为零的最左边坐标和最右边坐标\n",
    "left_coordinate, right_coordinate = find_left_right_coordinates(vector)\n",
    "\n",
    "print(\"最左边坐标:\", left_coordinate)\n",
    "print(\"最右边坐标:\", right_coordinate)\n"
   ]
  },
  {
   "cell_type": "code",
   "execution_count": 11,
   "metadata": {},
   "outputs": [
    {
     "data": {
      "text/plain": [
       "<matplotlib.image.AxesImage at 0x7fa185443b20>"
      ]
     },
     "execution_count": 11,
     "metadata": {},
     "output_type": "execute_result"
    },
    {
     "data": {
      "image/png": "[encoded data removed]",
      "text/plain": [
       "<Figure size 720x720 with 1 Axes>"
      ]
     },
     "metadata": {
      "needs_background": "light"
     },
     "output_type": "display_data"
    }
   ],
   "source": [
    "import matplotlib.pylab as plt\n",
    "import os\n",
    "# from PIL import Image\n",
    "import numpy as np\n",
    "name = \"10033831_06.npy\"\n",
    "dirpath = \"/home1/zhhli/sagmask/\"\n",
    "img_name = os.path.join(dirpath.replace(\"sagjpg\", \"sagmask\"), name)\n",
    "# img = Image.open(img_name).convert(\"L\")\n",
    "img = np.load(img_name)\n",
    "\n",
    "toshow = np.int32(img==2) + np.int32(img==1)\n",
    "plt.figure(figsize=(10,10))\n",
    "plt.imshow(toshow, cmap='gray')"
   ]
  },
  {
   "cell_type": "code",
   "execution_count": null,
   "metadata": {},
   "outputs": [],
   "source": []
  }
 ],
 "metadata": {
  "kernelspec": {
   "display_name": "py38",
   "language": "python",
   "name": "python3"
  },
  "language_info": {
   "codemirror_mode": {
    "name": "ipython",
    "version": 3
   },
   "file_extension": ".py",
   "mimetype": "text/x-python",
   "name": "python",
   "nbconvert_exporter": "python",
   "pygments_lexer": "ipython3",
   "version": "3.8.0"
  },
  "orig_nbformat": 4
 },
 "nbformat": 4,
 "nbformat_minor": 2
}
