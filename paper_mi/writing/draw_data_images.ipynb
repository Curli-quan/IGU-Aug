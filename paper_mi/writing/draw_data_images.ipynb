{
 "cells": [
  {
   "cell_type": "code",
   "execution_count": 3,
   "metadata": {},
   "outputs": [
    {
     "name": "stdout",
     "output_type": "stream",
     "text": [
      "(2400, 1935)\n",
      "[DEBUG] tensor.max() from 7.067190170288086 to 1.0, fname=my_entr.png\n"
     ]
    }
   ],
   "source": [
    "import matplotlib.pyplot as plt\n",
    "import numpy as np\n",
    "import cv2\n",
    "import torch\n",
    "\n",
    "from skimage import data\n",
    "from skimage.util import img_as_ubyte\n",
    "from skimage.filters.rank import entropy\n",
    "from skimage.morphology import disk\n",
    "from skimage.exposure import histogram\n",
    "from sklearn.metrics import mutual_info_score\n",
    "# from scipy.misc import imread\n",
    "import numpy as np\n",
    "import cv2\n",
    "# from scipy.stats import entropy\n",
    "from tutils import torchvision_save\n",
    "\n",
    "# dirpth = \"/home1/quanquan/datasets/Cephalometric/RawImage/TrainingData/\"re\n",
    "dirpth = \"./\"\n",
    "# im = cv2.imread(dirpth + \"001.bmp\", cv2.IMREAD_GRAYSCALE)\n",
    "im = cv2.imread(\"../test/026.bmp\", cv2.IMREAD_GRAYSCALE)\n",
    "# im = cv2.resize(im, (384, 384))\n",
    "# torchvision_save(torch.Tensor(im), \"ori_026.png\")\n",
    "# exit()\n",
    "print(im.shape)\n",
    "# cv2.imwrite(\"384_3167.jpg\", cv2.resize(im, (384, 384)))\n",
    "entr_img = entropy(im, disk(10))\n",
    "entr_img = cv2.resize(entr_img, (384, 384))\n",
    "torchvision_save(torch.Tensor(entr_img), \"my_entr.png\")\n",
    "\n",
    "# high_entr = np.ones_like(entr_img)\n",
    "# # high_entr[np.where(entr_img<4.5)] = 0\n",
    "# # high_entr[np.where(entr_img>5.75)] = 0\n",
    "# high_entr[np.where(entr_img<4)] = 0\n",
    "# high_entr[np.where(entr_img>4.57)] = 0\n",
    "# print(high_entr.shape)\n",
    "# # cv2.imwrite(\"entr_026.png\", entr_img)\n",
    "# torchvision_save(torch.Tensor(entr_img), \"entr_hand.png\")\n",
    "# torchvision_save(torch.Tensor(high_entr), \"high.png\")"
   ]
  },
  {
   "cell_type": "code",
   "execution_count": null,
   "metadata": {},
   "outputs": [],
   "source": []
  }
 ],
 "metadata": {
  "kernelspec": {
   "display_name": "Python 3.8.0 ('py38')",
   "language": "python",
   "name": "python3"
  },
  "language_info": {
   "codemirror_mode": {
    "name": "ipython",
    "version": 3
   },
   "file_extension": ".py",
   "mimetype": "text/x-python",
   "name": "python",
   "nbconvert_exporter": "python",
   "pygments_lexer": "ipython3",
   "version": "3.8.0"
  },
  "orig_nbformat": 4,
  "vscode": {
   "interpreter": {
    "hash": "566aed230cdd1367dfe2c8bd7c2599f618f4b35809e6a08f2a020cd341aabc2d"
   }
  }
 },
 "nbformat": 4,
 "nbformat_minor": 2
}
