{
 "cells": [
  {
   "cell_type": "markdown",
   "metadata": {},
   "source": [
    "## Seach optimal augmentation intensity by $\\mu$ (minimal mutual information)"
   ]
  },
  {
   "cell_type": "code",
   "execution_count": 1,
   "metadata": {},
   "outputs": [
    {
     "name": "stdout",
     "output_type": "stream",
     "text": [
      "/home1/quanquan/code/landmark/code/tproj\n"
     ]
    }
   ],
   "source": [
    "import os\n",
    "os.chdir(\"..\")\n",
    "print(os.getcwd())\n",
    "assert os.getcwd() == \"/home1/quanquan/code/landmark/code/tproj\""
   ]
  },
  {
   "cell_type": "code",
   "execution_count": 6,
   "metadata": {},
   "outputs": [],
   "source": [
    "\"\"\"\n",
    "    search_optimal_aug_params\n",
    "\"\"\"\n",
    "import cv2\n",
    "from sklearn.metrics import mutual_info_score\n",
    "from scipy.stats import entropy\n",
    "# from scipy.misc import imread\n",
    "import numpy as np\n",
    "import cv2\n",
    "from skimage.exposure import histogram\n",
    "from scipy.stats import entropy\n",
    "import matplotlib\n",
    "from tutils import tfilename\n",
    "from PIL import Image\n",
    "import torchvision.transforms.functional as F\n",
    "from scipy.stats import norm\n",
    "matplotlib.use('Agg')  # Must be before importing matplotlib.pyplot or pylab!\n",
    "import matplotlib.pyplot as plt\n",
    "plt.style.use('ggplot')\n",
    "\n",
    "\n",
    "EX_CONFIG = {\n",
    "    'dataset': {\n",
    "        'name': 'Cephalometric',\n",
    "        'pth': '/home1/quanquan/datasets/Cephalometric/',\n",
    "        'entr': '/home1/quanquan/datasets/Cephalometric/entr1/train/',\n",
    "        'prob': '/home1/quanquan/datasets/Cephalometric/prob/train/',\n",
    "        'n_cls': 19,\n",
    "    }\n",
    "}\n",
    "\n",
    "\n",
    "def search_mi_for_all_patch():\n",
    "    from datasets.ceph.ceph_ssl import Test_Cephalometric\n",
    "    pth = '/home1/quanquan/datasets/Cephalometric/'\n",
    "    testset = Test_Cephalometric(pth, mode=\"Train\")\n",
    "    # item, landmark_list, template_patches = testset.__getitem__(0)\n",
    "    # data = testset.__getitem__(id_oneshot)\n",
    "    landmark_list = []\n",
    "    for i in range(len(testset)):\n",
    "        landmark = testset.ref_landmarks(i)\n",
    "        landmark_list.append(landmark)\n",
    "\n",
    "    pth = EX_CONFIG['dataset']['pth']\n",
    "    m0_list = []\n",
    "    m1_list = []\n",
    "    r_list = []\n",
    "    en_list = []\n",
    "    for i in range(150):\n",
    "        landmarks = landmark_list[i]\n",
    "        tmp_list0 = []\n",
    "        tmp_list1 = []\n",
    "        tmp_list2 = []\n",
    "        tmp_list3 = []\n",
    "        for j, landmark in enumerate(landmarks):\n",
    "            print(\"Processing \", i, j, end=\"\\r\")\n",
    "            im_pth = tfilename(pth, \"RawImage/TrainingData\", f\"{i+1:03d}.bmp\")\n",
    "            # print(im_pth)\n",
    "            im = cv2.imread(im_pth, cv2.IMREAD_GRAYSCALE)\n",
    "            im = cv2.resize(im, (384, 384))\n",
    "            lm = landmark\n",
    "            ps_half = 32\n",
    "            patch = im[max(lm[0]-ps_half, 0):lm[0]+ps_half, max(lm[1]-ps_half, 0):lm[1]+ps_half]\n",
    "            mi0, mi, ratio, e1, e2 = _test_mi_fn(patch)\n",
    "            tmp_list0.append(mi0)\n",
    "            tmp_list1.append(mi)\n",
    "            tmp_list2.append(ratio)\n",
    "            tmp_list3.append(e1)\n",
    "        m0_list.append(tmp_list0)\n",
    "        m1_list.append(tmp_list1)\n",
    "        r_list.append(tmp_list2)\n",
    "        en_list.append(tmp_list3)\n",
    "    m0 = np.array(m0_list)\n",
    "    m1 = np.array(m1_list)\n",
    "    rr = np.array(r_list)\n",
    "    en = np.array(en_list)\n",
    "    print(m0.mean(), m0.std(), m0.mean(axis=0), m0.std(axis=0))  # 2.781 +- 0.686\n",
    "    print(m1.mean(), m1.std(), m1.mean(axis=0), m1.std(axis=0))  # 0.833 +- 0.236\n",
    "    print(rr.mean(), rr.std(), rr.mean(axis=0), rr.std(axis=0))  # 0.302 +- 0.07\n",
    "    print(en.mean(), en.std(), en.mean(axis=0), en.std(axis=0))  # 4.593 +- 0.506\n",
    "    np.save('./cache/mi_ceph_all.npy', [m0, m1, rr, en])\n",
    "\n",
    "\n",
    "def _test_mi_fn(patch, br=1.6, ct=1.5):\n",
    "    assert len(patch.shape) == 2, f\"Got {patch.shape}\"\n",
    "    assert patch.shape[0] >0 and patch.shape[1] > 0, f\"Got {patch.shape}\"\n",
    "    patch_aug = Image.fromarray(patch)\n",
    "    patch_aug = F.adjust_brightness(patch_aug, br)\n",
    "    patch_aug = F.adjust_contrast(patch_aug, ct)\n",
    "    patch_aug = np.array(patch_aug)\n",
    "    assert patch_aug.shape[0] >0 and patch_aug.shape[1] > 0, f\"Got {patch_aug.shape}\"\n",
    "    fea1 = get_fea(patch)\n",
    "    fea2 = get_fea(patch_aug)\n",
    "    mi0 = mutual_info_score(fea1.copy(), fea1.copy())\n",
    "    mi = mutual_info_score(fea1, fea2)\n",
    "    entr1 = entropy(fea1)\n",
    "    entr2 = entropy(fea2)\n",
    "    return mi0, mi, mi/mi0, entr1, entr2\n",
    "\n",
    "def get_fea(patch):\n",
    "    fea = np.zeros((256,))\n",
    "    hist, idx = histogram(patch, nbins=256)\n",
    "    for hi, idi in zip(hist, idx):\n",
    "        # print(hi, idi, i, j)\n",
    "        fea[idi] = hi\n",
    "    return fea"
   ]
  },
  {
   "cell_type": "code",
   "execution_count": 7,
   "metadata": {},
   "outputs": [
    {
     "name": "stdout",
     "output_type": "stream",
     "text": [
      "The sizes are set as  [384, 384]\n",
      "Initializing Datasets: (split:'Train') (len:(150)) \n",
      "2.781115538153201 0.6866188393380371 [2.51138927 3.18064627 3.1936682  2.11334156 3.26182041 2.72902131\n",
      " 2.16312098 1.94328915 2.01532239 3.26112403 3.20813622 3.16552408\n",
      " 3.12697808 2.64613941 3.25124197 1.97482131 3.206975   3.22484813\n",
      " 2.66378744] [0.46076691 0.30574453 0.2845213  0.48100281 0.24713011 0.75816679\n",
      " 0.75060892 0.65067037 0.6793318  0.23704422 0.36165119 0.38236706\n",
      " 0.30267382 0.60297583 0.24602729 0.60459519 0.21163927 0.24409171\n",
      " 0.47145102]\n",
      "0.8334361740522674 0.236187758371206 [0.58855864 0.9689842  0.88423108 0.41595766 0.93467499 0.87520715\n",
      " 0.75355031 0.69097756 0.70706193 0.9617875  0.95781572 0.96094506\n",
      " 0.98639255 0.89073955 0.96499311 0.71407015 0.93329412 0.91891464\n",
      " 0.7271314 ] [0.26388173 0.12006105 0.12696776 0.31245908 0.10358765 0.20422783\n",
      " 0.21599622 0.18820669 0.19157507 0.13725611 0.11465392 0.12241823\n",
      " 0.11602296 0.19213057 0.09218982 0.18752875 0.1210562  0.1017045\n",
      " 0.28287337]\n",
      "0.30255598616518015 0.07071514569084383 [0.22228368 0.3052235  0.27727049 0.17564076 0.28687285 0.33020751\n",
      " 0.35978205 0.36509693 0.36119425 0.29635247 0.30038729 0.30547126\n",
      " 0.31645546 0.3409684  0.29784311 0.36810754 0.29157507 0.28518113\n",
      " 0.26264999] [0.08518929 0.03811567 0.03536874 0.11798476 0.0276701  0.04630233\n",
      " 0.04844656 0.04309345 0.04499098 0.04691302 0.03214592 0.03304589\n",
      " 0.03321996 0.03880205 0.03040845 0.03984614 0.03734166 0.026325\n",
      " 0.08700717]\n",
      "4.592848378070493 0.5059876207290258 [4.32922599 4.94955578 4.9402223  4.13369406 5.02937445 4.46131056\n",
      " 4.12397278 4.07084514 4.08404715 4.8864486  4.87044201 4.79871701\n",
      " 4.7067016  4.29701387 4.94452249 4.05091702 5.03718015 5.01795204\n",
      " 4.53197619] [0.32104817 0.36015503 0.25001072 0.34826474 0.22153489 0.53958994\n",
      " 0.44612867 0.39377246 0.4095514  0.27827981 0.33560316 0.348146\n",
      " 0.33046936 0.41912717 0.26862784 0.38550231 0.17205685 0.20877866\n",
      " 0.32103766]\n"
     ]
    }
   ],
   "source": [
    "search_aug_for_all_patch()"
   ]
  },
  {
   "cell_type": "code",
   "execution_count": null,
   "metadata": {},
   "outputs": [],
   "source": []
  }
 ],
 "metadata": {
  "kernelspec": {
   "display_name": "Python 3.8.0 ('py38')",
   "language": "python",
   "name": "python3"
  },
  "language_info": {
   "codemirror_mode": {
    "name": "ipython",
    "version": 3
   },
   "file_extension": ".py",
   "mimetype": "text/x-python",
   "name": "python",
   "nbconvert_exporter": "python",
   "pygments_lexer": "ipython3",
   "version": "3.8.0"
  },
  "orig_nbformat": 4,
  "vscode": {
   "interpreter": {
    "hash": "566aed230cdd1367dfe2c8bd7c2599f618f4b35809e6a08f2a020cd341aabc2d"
   }
  }
 },
 "nbformat": 4,
 "nbformat_minor": 2
}
